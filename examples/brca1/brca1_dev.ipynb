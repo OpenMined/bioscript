{
 "cells": [
  {
   "cell_type": "markdown",
   "metadata": {},
   "source": [
    "# APOL1 Classifier Development\n",
    "\n",
    "This notebook shows how to develop a classifier with embedded tests in Jupyter."
   ]
  },
  {
   "cell_type": "code",
   "execution_count": null,
   "metadata": {},
   "outputs": [],
   "source": []
  },
  {
   "cell_type": "code",
   "execution_count": null,
   "metadata": {},
   "outputs": [],
   "source": [
    "!uv pip install pytest"
   ]
  },
  {
   "cell_type": "code",
   "execution_count": null,
   "metadata": {},
   "outputs": [],
   "source": [
    "!uv pip install -e ../../python"
   ]
  },
  {
   "cell_type": "code",
   "execution_count": null,
   "metadata": {},
   "outputs": [],
   "source": [
    "from bioscript import AlleleCounter\n",
    "from bioscript.classifier import DiploidResult, GenotypeClassifier, GenotypeEnum\n",
    "from bioscript.types import Alleles, VariantCall"
   ]
  },
  {
   "cell_type": "code",
   "execution_count": null,
   "metadata": {},
   "outputs": [],
   "source": [
    "import pandas as pd"
   ]
  },
  {
   "cell_type": "code",
   "execution_count": null,
   "metadata": {},
   "outputs": [],
   "source": [
    "def filter_snvs(df: pd.DataFrame) -> pd.DataFrame:\n",
    "    \"\"\"\n",
    "    Return only rows where clnvc == 'single_nucleotide_variant' (case-insensitive).\n",
    "    \"\"\"\n",
    "    mask = df[\"clnvc\"].str.lower() == \"single_nucleotide_variant\"\n",
    "    return df[mask].reset_index(drop=True)"
   ]
  },
  {
   "cell_type": "code",
   "execution_count": null,
   "metadata": {},
   "outputs": [],
   "source": [
    "def generate_variant_calls(df: pd.DataFrame) -> list[str]:\n",
    "    vcs = []\n",
    "    for _, row in df.iterrows():\n",
    "        rsid = str(row[\"rsid\"]).strip()\n",
    "        ref = str(row[\"ref\"]).strip().upper()\n",
    "        alt = str(row[\"alt\"]).strip().upper()\n",
    "\n",
    "        # Build readable variant call\n",
    "        vc = VariantCall(rsid=rsid, ref=Alleles.from_letter(ref), alt=Alleles.from_not_letter(ref))\n",
    "        vcs.append(vc)\n",
    "\n",
    "    return vcs"
   ]
  },
  {
   "cell_type": "code",
   "execution_count": null,
   "metadata": {},
   "outputs": [],
   "source": [
    "def get_vcs():\n",
    "    # Path to your TSV file\n",
    "    tsv_path = \"brca1_clinvar.tsv\"\n",
    "    \n",
    "    # Load the TSV file\n",
    "    df = pd.read_csv(\n",
    "        tsv_path,\n",
    "        sep=\"\\t\",\n",
    "        dtype={\n",
    "            \"rsid\": \"string\",\n",
    "            \"gene\": \"string\",\n",
    "            \"chromosome\": \"string\",\n",
    "            \"position\": \"Int64\",\n",
    "            \"ref\": \"string\",\n",
    "            \"alt\": \"string\",\n",
    "            \"clnrevstat\": \"string\",\n",
    "            \"clnsig\": \"string\",\n",
    "            \"clnvc\": \"string\",\n",
    "        }\n",
    "    )\n",
    "\n",
    "    # Example usage:\n",
    "    df_snvs = filter_snvs(df)\n",
    "    vcs = generate_variant_calls(df_snvs)\n",
    "    return vcs"
   ]
  },
  {
   "cell_type": "code",
   "execution_count": null,
   "metadata": {},
   "outputs": [],
   "source": [
    "class BRCA1Classifier(GenotypeClassifier):\n",
    "    def classify(self, matches) -> DiploidResult:\n",
    "        print(type(matches))\n",
    "        print(len(matches.all_matches))\n",
    "        print(len(matches.variant_matches))"
   ]
  },
  {
   "cell_type": "code",
   "execution_count": null,
   "metadata": {},
   "outputs": [],
   "source": [
    "__bioscript__ = {\n",
    "    \"variant_calls\": get_vcs(),\n",
    "    \"classifier\": BRCA1Classifier(),\n",
    "    \"name\": \"BRCA1\",\n",
    "}"
   ]
  },
  {
   "cell_type": "markdown",
   "metadata": {},
   "source": [
    "## Tests\n",
    "\n",
    "Write tests using the test_* function convention:"
   ]
  },
  {
   "cell_type": "code",
   "execution_count": null,
   "metadata": {},
   "outputs": [],
   "source": [
    "# from bioscript import VariantFixture\n",
    "# from bioscript.types import MatchList\n",
    "\n",
    "# fixture = VariantFixture(\n",
    "#     [\n",
    "#         {\"rsid\": \"rs73885319\", \"chromosome\": \"22\", \"position\": 36265860},\n",
    "#         {\"rsid\": \"rs60910145\", \"chromosome\": \"22\", \"position\": 36265988},\n",
    "#         {\"rsid\": \"rs71785313\", \"chromosome\": \"22\", \"position\": 36266000},\n",
    "#     ],\n",
    "#     assembly=\"GRCh38\",\n",
    "# )"
   ]
  },
  {
   "cell_type": "code",
   "execution_count": null,
   "metadata": {},
   "outputs": [],
   "source": [
    "# def test_g0_homozygous():\n",
    "#     variants = fixture([\"AA\", \"TT\", \"II\"])\n",
    "#     matches = MatchList([rs73885319, rs60910145, rs71785313]).match_rows(variants)\n",
    "#     classifier = APOL1Classifier()\n",
    "#     result = classifier(matches)\n",
    "#     assert result == \"G0/G0\""
   ]
  },
  {
   "cell_type": "code",
   "execution_count": null,
   "metadata": {},
   "outputs": [],
   "source": [
    "# def test_g1_homozygous():\n",
    "#     variants = fixture([\"GG\", \"CC\", \"II\"])\n",
    "#     matches = MatchList([rs73885319, rs60910145, rs71785313]).match_rows(variants)\n",
    "#     classifier = APOL1Classifier()\n",
    "#     result = classifier(matches)\n",
    "#     assert result == \"G1/G1\""
   ]
  },
  {
   "cell_type": "markdown",
   "metadata": {},
   "source": [
    "## Run Tests in Jupyter\n",
    "\n",
    "You can run tests directly in the notebook:"
   ]
  },
  {
   "cell_type": "code",
   "execution_count": null,
   "metadata": {},
   "outputs": [],
   "source": [
    "# # Run tests\n",
    "# test_g0_homozygous()\n",
    "# test_g1_homozygous()\n",
    "# print(\"✓ All tests passed!\")"
   ]
  },
  {
   "cell_type": "markdown",
   "metadata": {},
   "source": [
    "## Export to Python Module\n",
    "\n",
    "Export this notebook to a Python file:\n",
    "\n",
    "```bash\n",
    "bioscript export apol1_dev.ipynb -o classify_apol1_exported.py\n",
    "```\n",
    "\n",
    "Or in Python:\n",
    "\n",
    "```python\n",
    "from bioscript import export_from_notebook\n",
    "export_from_notebook(\"apol1_dev.ipynb\", \"classify_apol1_exported.py\")\n",
    "```"
   ]
  },
  {
   "cell_type": "code",
   "execution_count": null,
   "metadata": {},
   "outputs": [],
   "source": [
    "from bioscript import export_from_notebook\n",
    "export_from_notebook(\"brca1_dev.ipynb\", \"brca1_classifier.py\")"
   ]
  },
  {
   "cell_type": "code",
   "execution_count": null,
   "metadata": {},
   "outputs": [],
   "source": [
    "# !bioscript test brca1_classifier.py"
   ]
  },
  {
   "cell_type": "code",
   "execution_count": null,
   "metadata": {},
   "outputs": [],
   "source": [
    "# !bioscript classify --participant_id=\"X\" --file=\"test.txt\" brca1_classifier.py --out=tsv"
   ]
  },
  {
   "cell_type": "code",
   "execution_count": null,
   "metadata": {},
   "outputs": [],
   "source": []
  }
 ],
 "metadata": {
  "kernelspec": {
   "display_name": "Python 3 (ipykernel)",
   "language": "python",
   "name": "python3"
  },
  "language_info": {
   "codemirror_mode": {
    "name": "ipython",
    "version": 3
   },
   "file_extension": ".py",
   "mimetype": "text/x-python",
   "name": "python",
   "nbconvert_exporter": "python",
   "pygments_lexer": "ipython3",
   "version": "3.12.7"
  }
 },
 "nbformat": 4,
 "nbformat_minor": 4
}
