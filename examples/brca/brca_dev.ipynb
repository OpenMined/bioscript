{
 "cells": [
  {
   "cell_type": "markdown",
   "metadata": {},
   "source": [
    "# BRCA1 and BRCA2\n",
    "\n",
    "This notebook shows how to develop a classifier with embedded tests in Jupyter."
   ]
  },
  {
   "cell_type": "code",
   "execution_count": null,
   "metadata": {},
   "outputs": [],
   "source": [
    "# !uv pip install -e ../../python"
   ]
  },
  {
   "cell_type": "code",
   "execution_count": 1,
   "metadata": {},
   "outputs": [],
   "source": [
    "import pandas as pd\n",
    "from bioscript import optional_int, optional_str, write_tsv\n",
    "from bioscript.classifier import GenotypeClassifier\n",
    "from bioscript.types import VariantCall"
   ]
  },
  {
   "cell_type": "code",
   "execution_count": 2,
   "metadata": {},
   "outputs": [],
   "source": [
    "def generate_variant_calls(df: pd.DataFrame) -> list[VariantCall]:\n",
    "    \"\"\"Generate VariantCall objects from ClinVar DataFrame.\"\"\"\n",
    "    vcs: list[VariantCall] = []\n",
    "    for _, row in df.iterrows():\n",
    "        vcs.append(\n",
    "            VariantCall(\n",
    "                rsid=optional_str(row[\"rsid\"]),\n",
    "                ref=optional_str(row[\"ref\"]),\n",
    "                alt=optional_str(row[\"alt\"]),\n",
    "                chromosome=optional_str(row[\"chromosome\"]),\n",
    "                position=optional_int(row[\"position\"]),\n",
    "                gene=optional_str(row.get(\"gene\"), upper=True),\n",
    "            )\n",
    "        )\n",
    "    return vcs"
   ]
  },
  {
   "cell_type": "code",
   "execution_count": 3,
   "metadata": {},
   "outputs": [],
   "source": [
    "def get_vcs() -> list[VariantCall]:\n",
    "    \"\"\"Load BRCA1 and BRCA2 variant calls from ClinVar TSV files.\"\"\"\n",
    "    dfs = [pd.read_csv(f, sep=\"\\t\") for f in [\"brca1_clinvar.tsv\", \"brca2_clinvar.tsv\"]]\n",
    "    df = pd.concat(dfs, ignore_index=True)\n",
    "    print(f\"Loaded {len(df)} variants from BRCA1 and BRCA2\")\n",
    "    return generate_variant_calls(df)"
   ]
  },
  {
   "cell_type": "code",
   "execution_count": 4,
   "metadata": {},
   "outputs": [],
   "source": [
    "class BRCAClassifier(GenotypeClassifier):\n",
    "    def classify(self, matches):\n",
    "        \"\"\"Classify BRCA variants and write results to TSV files.\"\"\"\n",
    "        if not matches.all_matches:\n",
    "            print(\"No variant matches were found.\", flush=True)\n",
    "\n",
    "        # Get categorized matches as report rows\n",
    "        ref_rows, var_rows, no_rows = matches.categorize_report_rows(\n",
    "            self.participant_id, self.filename\n",
    "        )\n",
    "\n",
    "        if self.debug:\n",
    "            write_tsv(f\"{self.output_basename}_ref.tsv\", ref_rows)\n",
    "            write_tsv(f\"{self.output_basename}_no.tsv\", no_rows)\n",
    "\n",
    "        write_tsv(f\"{self.output_basename}.tsv\", var_rows)\n",
    "        \n",
    "        # Return variant rows for testing\n",
    "        return var_rows"
   ]
  },
  {
   "cell_type": "code",
   "execution_count": 5,
   "metadata": {},
   "outputs": [],
   "source": [
    "__bioscript__ = {\n",
    "    \"variant_calls\": get_vcs,\n",
    "    \"classifier\": BRCAClassifier,\n",
    "    \"name\": \"BRCA\",\n",
    "}"
   ]
  },
  {
   "cell_type": "markdown",
   "metadata": {},
   "source": [
    "## Tests\n",
    "\n",
    "Write tests using the test_* function convention:"
   ]
  },
  {
   "cell_type": "code",
   "execution_count": 6,
   "metadata": {},
   "outputs": [],
   "source": [
    "from bioscript import VariantFixture\n",
    "from bioscript.types import MatchList\n",
    "import os\n",
    "\n",
    "# Create test fixtures for BRCA1 and BRCA2 variants\n",
    "fixture = VariantFixture(\n",
    "    [\n",
    "        {\"rsid\": \"rs80357336\", \"chromosome\": \"17\", \"position\": 43045711},\n",
    "        {\"rsid\": \"rs886040303\", \"chromosome\": \"17\", \"position\": 43045728},\n",
    "        {\"rsid\": \"rs397509295\", \"chromosome\": \"17\", \"position\": 43045729},\n",
    "        {\"rsid\": \"rs80358650\", \"chromosome\": \"13\", \"position\": 32316463},\n",
    "        {\"rsid\": \"rs397507571\", \"chromosome\": \"13\", \"position\": 32316470},\n",
    "        {\"rsid\": \"rs80358622\", \"chromosome\": \"13\", \"position\": 32316497},\n",
    "    ],\n",
    "    assembly=\"GRCh38\",\n",
    ")"
   ]
  },
  {
   "cell_type": "code",
   "execution_count": 7,
   "metadata": {},
   "outputs": [],
   "source": [
    "def test_brca1_heterozygous_variants():\n",
    "    \"\"\"Test detection of heterozygous BRCA1 variants.\"\"\"\n",
    "    # Create test data with heterozygous variants (one alt allele)\n",
    "    variants = fixture([\"GC\", \"GA\", \"GT\", \"GG\", \"GG\", \"GG\"])\n",
    "    \n",
    "    # Create mini variant call list for testing\n",
    "    test_vcs = [\n",
    "        VariantCall(rsid=\"rs80357336\", ref=\"G\", alt=\"C\", chromosome=\"17\", position=43045711, gene=\"BRCA1\"),\n",
    "        VariantCall(rsid=\"rs886040303\", ref=\"G\", alt=\"A\", chromosome=\"17\", position=43045728, gene=\"BRCA1\"),\n",
    "        VariantCall(rsid=\"rs397509295\", ref=\"G\", alt=\"T\", chromosome=\"17\", position=43045729, gene=\"BRCA1\"),\n",
    "    ]\n",
    "    \n",
    "    matches = MatchList(variant_calls=test_vcs).match_rows(variants)\n",
    "    classifier = BRCAClassifier(participant_id=\"TEST_HET\", name=\"BRCA\", filename=\"test.txt\")\n",
    "    result = classifier(matches)\n",
    "    \n",
    "    assert len(result) == 3, f\"Expected 3 variant rows, got {len(result)}\"\n",
    "    assert all(row[\"gene\"] == \"BRCA1\" for row in result), \"All variants should be BRCA1\"\n",
    "    assert all(row[\"match_type\"] == \"VARIANT_CALL\" for row in result), \"All should be variant calls\"\n",
    "    \n",
    "    # Cleanup output file\n",
    "    os.remove(\"result_BRCA_TEST_HET.tsv\")"
   ]
  },
  {
   "cell_type": "code",
   "execution_count": 8,
   "metadata": {},
   "outputs": [],
   "source": [
    "def test_brca2_homozygous_variant():\n",
    "    \"\"\"Test detection of homozygous BRCA2 variant.\"\"\"\n",
    "    # Create test data with one homozygous variant (two alt alleles)\n",
    "    variants = fixture([\"GG\", \"GG\", \"GG\", \"AA\", \"GG\", \"GG\"])\n",
    "    \n",
    "    test_vcs = [\n",
    "        VariantCall(rsid=\"rs80358650\", ref=\"G\", alt=\"A\", chromosome=\"13\", position=32316463, gene=\"BRCA2\"),\n",
    "    ]\n",
    "\n",
    "    matches = MatchList(variant_calls=test_vcs).match_rows(variants)\n",
    "    classifier = BRCAClassifier(participant_id=\"TEST_HOM\", name=\"BRCA\", filename=\"test.txt\")\n",
    "    result = classifier(matches)\n",
    "    \n",
    "    assert len(result) == 1, f\"Expected 1 variant row, got {len(result)}\"\n",
    "    assert result[0][\"gene\"] == \"BRCA2\", \"Variant should be BRCA2\"\n",
    "    assert result[0][\"genotype\"] == \"AA\", \"Should be homozygous AA\"\n",
    "    \n",
    "    # Cleanup output file\n",
    "    os.remove(\"result_BRCA_TEST_HOM.tsv\")"
   ]
  },
  {
   "cell_type": "code",
   "execution_count": 9,
   "metadata": {},
   "outputs": [],
   "source": [
    "def test_no_variants():\n",
    "    \"\"\"Test classifier with no matching variants.\"\"\"\n",
    "    # All reference genotypes\n",
    "    variants = fixture([\"GG\", \"GG\", \"GG\", \"GG\", \"GG\", \"GG\"])\n",
    "    \n",
    "    test_vcs = [\n",
    "        VariantCall(rsid=\"rs80357336\", ref=\"G\", alt=\"C\", chromosome=\"17\", position=43045711, gene=\"BRCA1\"),\n",
    "    ]\n",
    "    \n",
    "    matches = MatchList(variant_calls=test_vcs).match_rows(variants)\n",
    "    classifier = BRCAClassifier(participant_id=\"TEST_REF\", name=\"BRCA\", filename=\"test.txt\")\n",
    "    result = classifier(matches)\n",
    "    \n",
    "    assert len(result) == 0, f\"Expected 0 variant rows, got {len(result)}\"\n",
    "    \n",
    "    # Cleanup output file\n",
    "    os.remove(\"result_BRCA_TEST_REF.tsv\")"
   ]
  },
  {
   "cell_type": "markdown",
   "metadata": {},
   "source": [
    "## Run Tests in Jupyter\n",
    "\n",
    "You can run tests directly in the notebook:"
   ]
  },
  {
   "cell_type": "code",
   "execution_count": 10,
   "metadata": {},
   "outputs": [
    {
     "name": "stdout",
     "output_type": "stream",
     "text": [
      "✓ All tests passed!\n"
     ]
    }
   ],
   "source": [
    "# Run tests\n",
    "test_brca1_heterozygous_variants()\n",
    "test_brca2_homozygous_variant()\n",
    "test_no_variants()\n",
    "print(\"✓ All tests passed!\")"
   ]
  },
  {
   "cell_type": "markdown",
   "metadata": {},
   "source": [
    "## Export to Python Module\n",
    "\n",
    "Export this notebook to a Python file:\n",
    "\n",
    "```bash\n",
    "bioscript export brca_dev.ipynb -o classify_brca.py\n",
    "```\n",
    "\n",
    "Or in Python:\n",
    "\n",
    "```python\n",
    "from bioscript import export_from_notebook\n",
    "export_from_notebook(\"brca_dev.ipynb\", \"classify_brca.py\")\n",
    "```"
   ]
  },
  {
   "cell_type": "code",
   "execution_count": 11,
   "metadata": {},
   "outputs": [
    {
     "data": {
      "text/plain": [
       "PosixPath('classify_brca.py')"
      ]
     },
     "execution_count": 11,
     "metadata": {},
     "output_type": "execute_result"
    }
   ],
   "source": [
    "from bioscript import export_from_notebook\n",
    "export_from_notebook(\"brca_dev.ipynb\", \"classify_brca.py\")"
   ]
  },
  {
   "cell_type": "code",
   "execution_count": 12,
   "metadata": {},
   "outputs": [
    {
     "name": "stdout",
     "output_type": "stream",
     "text": [
      "\n",
      "============================================================\n",
      "Testing: classify_brca.py\n",
      "============================================================\n",
      "Running tests with pytest: classify_brca.py\n",
      "\u001b[1m============================= test session starts ==============================\u001b[0m\n",
      "platform darwin -- Python 3.12.7, pytest-8.4.2, pluggy-1.6.0 -- /Users/madhavajay/dev/bioscript/workspace1/.venv/bin/python3\n",
      "cachedir: .pytest_cache\n",
      "rootdir: /Users/madhavajay/dev/bioscript/workspace1/examples/brca\n",
      "plugins: anyio-4.11.0\n",
      "collected 3 items                                                              \u001b[0m\n",
      "\n",
      "classify_brca.py::test_brca1_heterozygous_variants \u001b[32mPASSED\u001b[0m\u001b[32m                [ 33%]\u001b[0m\n",
      "classify_brca.py::test_brca2_homozygous_variant \u001b[32mPASSED\u001b[0m\u001b[32m                   [ 66%]\u001b[0m\n",
      "classify_brca.py::test_no_variants \u001b[32mPASSED\u001b[0m\u001b[32m                                [100%]\u001b[0m\n",
      "\n",
      "\u001b[32m============================== \u001b[32m\u001b[1m3 passed\u001b[0m\u001b[32m in 0.01s\u001b[0m\u001b[32m ===============================\u001b[0m\n"
     ]
    }
   ],
   "source": [
    "!bioscript test classify_brca.py"
   ]
  },
  {
   "cell_type": "code",
   "execution_count": null,
   "metadata": {},
   "outputs": [],
   "source": []
  }
 ],
 "metadata": {
  "kernelspec": {
   "display_name": "Python 3 (ipykernel)",
   "language": "python",
   "name": "python3"
  },
  "language_info": {
   "codemirror_mode": {
    "name": "ipython",
    "version": 3
   },
   "file_extension": ".py",
   "mimetype": "text/x-python",
   "name": "python",
   "nbconvert_exporter": "python",
   "pygments_lexer": "ipython3",
   "version": "3.12.7"
  }
 },
 "nbformat": 4,
 "nbformat_minor": 4
}
