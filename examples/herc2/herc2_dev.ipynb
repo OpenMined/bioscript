{
 "cells": [
  {
   "cell_type": "markdown",
   "id": "hoctlu1m6cu",
   "metadata": {},
   "source": [
    "## Export as BioVault Project\n",
    "\n",
    "Export this notebook as a complete BioVault project for pipeline execution:"
   ]
  },
  {
   "cell_type": "code",
   "execution_count": null,
   "id": "66a0c985-275c-4213-902b-45f5c188d9dd",
   "metadata": {},
   "outputs": [],
   "source": [
    "# !uv pip install -e ../../python"
   ]
  },
  {
   "cell_type": "code",
   "execution_count": 1,
   "id": "b025ff95-b911-4b42-8f63-35567637dfb9",
   "metadata": {},
   "outputs": [],
   "source": [
    "from bioscript import write_tsv\n",
    "from bioscript.classifier import GenotypeClassifier\n",
    "from bioscript.types import Alleles, MatchList, MatchType, Nucleotide, VariantCall"
   ]
  },
  {
   "cell_type": "code",
   "execution_count": 2,
   "id": "014b798d-a680-461b-822b-b3c72c504488",
   "metadata": {},
   "outputs": [],
   "source": [
    "# def rs12913832 = 38/37 ['15:28120472-28120472', '15:28365618-28365618']\n",
    "# https://www.ncbi.nlm.nih.gov/snp/?term=rs12913832\n",
    "# https://www.ncbi.nlm.nih.gov/snp/rs12913832\n",
    "rs12913832 = VariantCall(rsid=[\"rs12913832\", \"rs60078917\"], ref=Alleles.A, alt=Alleles.NOT_A, gene=\"HERC2\")\n",
    "# (A;A) yields brown eye color ~80% of the time.\n",
    "# (A;G) also tends toward brown.\n",
    "# (G;G) gives blue eye color ~99% of the time."
   ]
  },
  {
   "cell_type": "code",
   "execution_count": 3,
   "id": "fbf79259-7445-4284-a17a-a8f584914f80",
   "metadata": {},
   "outputs": [],
   "source": [
    "class HERC2Classifier(GenotypeClassifier):\n",
    "    def classify(self, matches):\n",
    "        match = matches.get(rs12913832)\n",
    "        \n",
    "        # Determine eye color result\n",
    "        eye_color_map = {\n",
    "            \"AA\": \"Brown\",\n",
    "            \"AG\": \"Brown\",\n",
    "            \"GG\": \"Blue\",\n",
    "        }\n",
    "        \n",
    "        if not match or match.has_missing:\n",
    "            result = \"No call\"\n",
    "            genotype_sorted = None\n",
    "            match_type = MatchType.NO_CALL.value\n",
    "        else:\n",
    "            genotype_sorted = match.genotype_sorted\n",
    "            result = eye_color_map.get(genotype_sorted, \"Unknown\")\n",
    "            match_type = match.match_type.value\n",
    "        \n",
    "        # Extract properties from match (source_row has the actual data from the file)\n",
    "        if match and match.source_row:\n",
    "            rsid = match.source_row.rsid\n",
    "            chromosome = match.source_row.chromosome\n",
    "            position = match.source_row.position\n",
    "        else:\n",
    "            rsid = \"rs12913832\"\n",
    "            chromosome = None\n",
    "            position = None\n",
    "        \n",
    "        # Create report row using match properties\n",
    "        report_row = {\n",
    "            \"participant_id\": self.participant_id,\n",
    "            \"filename\": self.filename,\n",
    "            \"rsid\": rsid,\n",
    "            \"chromosome\": chromosome,\n",
    "            \"position\": position,\n",
    "            \"genotype\": genotype_sorted,\n",
    "            \"match_type\": match_type,\n",
    "            \"eye_color\": result,\n",
    "        }\n",
    "        \n",
    "        # Write to TSV file (as a list with one row)\n",
    "        write_tsv(f\"{self.output_basename}.tsv\", [report_row])\n",
    "        \n",
    "        # Return list for testing (consistent with BRCA)\n",
    "        return [report_row]"
   ]
  },
  {
   "cell_type": "code",
   "execution_count": 4,
   "id": "9db0d015-66d4-4564-ae99-e1353dad1aef",
   "metadata": {},
   "outputs": [],
   "source": [
    "__bioscript__ = {\n",
    "    \"variant_calls\": [rs12913832],\n",
    "    \"classifier\": HERC2Classifier,\n",
    "    \"name\": \"HERC2\",\n",
    "}"
   ]
  },
  {
   "cell_type": "code",
   "execution_count": 5,
   "id": "2794c5cf-6361-4743-ac7c-10dd370b47f2",
   "metadata": {},
   "outputs": [],
   "source": [
    "from bioscript import VariantFixture\n",
    "\n",
    "# Use the regular VariantFixture which now includes raw_line functionality\n",
    "fixture = VariantFixture(\n",
    "    [\n",
    "        {\"rsid\": \"rs12913832\", \"chromosome\": \"15\", \"position\": 28120472}\n",
    "    ],\n",
    "    assembly=\"GRCh38\",\n",
    ")"
   ]
  },
  {
   "cell_type": "code",
   "execution_count": 6,
   "id": "48cdc397-62fd-473e-af2f-fec6d1ac21c8",
   "metadata": {},
   "outputs": [],
   "source": [
    "import os\n",
    "\n",
    "def classify_fixture(genotype):\n",
    "    variants = fixture([genotype])\n",
    "    matches = MatchList([rs12913832]).match_rows(variants)\n",
    "    classifier = HERC2Classifier(participant_id=\"TEST_ID\", name=\"HERC2\", filename=\"test.txt\")\n",
    "    return classifier(matches)\n",
    "\n",
    "def test_brown_homozygous():\n",
    "    result = classify_fixture(\"AA\")\n",
    "    assert len(result) == 1\n",
    "    assert result[0][\"eye_color\"] == \"Brown\"\n",
    "    assert result[0][\"genotype\"] == \"AA\"\n",
    "    assert result[0][\"match_type\"] == MatchType.REFERENCE_CALL.value\n",
    "    assert result[0][\"participant_id\"] == \"TEST_ID\"\n",
    "    assert result[0][\"filename\"] == \"test.txt\"\n",
    "    assert result[0][\"rsid\"] == \"rs12913832\"\n",
    "    assert result[0][\"chromosome\"] == \"15\"\n",
    "    assert result[0][\"position\"] == 28120472\n",
    "    # Cleanup\n",
    "    os.remove(\"result_HERC2_TEST_ID.tsv\")\n",
    "\n",
    "def test_brown_heterozygous_unsorted():\n",
    "    result = classify_fixture(\"GA\")\n",
    "    assert len(result) == 1\n",
    "    assert result[0][\"eye_color\"] == \"Brown\"\n",
    "    assert result[0][\"genotype\"] == \"AG\"\n",
    "    assert result[0][\"match_type\"] == MatchType.VARIANT_CALL.value\n",
    "    assert result[0][\"participant_id\"] == \"TEST_ID\"\n",
    "    assert result[0][\"filename\"] == \"test.txt\"\n",
    "    # Cleanup\n",
    "    os.remove(\"result_HERC2_TEST_ID.tsv\")\n",
    "\n",
    "def test_blue_homozygous():\n",
    "    result = classify_fixture(\"GG\")\n",
    "    assert len(result) == 1\n",
    "    assert result[0][\"eye_color\"] == \"Blue\"\n",
    "    assert result[0][\"genotype\"] == \"GG\"\n",
    "    assert result[0][\"match_type\"] == MatchType.VARIANT_CALL.value\n",
    "    assert result[0][\"participant_id\"] == \"TEST_ID\"\n",
    "    assert result[0][\"filename\"] == \"test.txt\"\n",
    "    # Cleanup\n",
    "    os.remove(\"result_HERC2_TEST_ID.tsv\")\n",
    "\n",
    "def test_no_call():\n",
    "    result = classify_fixture(\"--\")\n",
    "    assert len(result) == 1\n",
    "    assert result[0][\"eye_color\"] == \"No call\"\n",
    "    assert result[0][\"genotype\"] is None\n",
    "    assert result[0][\"match_type\"] == MatchType.NO_CALL.value\n",
    "    assert result[0][\"participant_id\"] == \"TEST_ID\"\n",
    "    assert result[0][\"filename\"] == \"test.txt\"\n",
    "    # Cleanup\n",
    "    os.remove(\"result_HERC2_TEST_ID.tsv\")\n",
    "\n",
    "def test_unexpected_allele_c():\n",
    "    \"\"\"Test handling of unexpected C allele (not in reference map).\"\"\"\n",
    "    result = classify_fixture(\"AC\")\n",
    "    assert len(result) == 1\n",
    "    assert result[0][\"eye_color\"] == \"Unknown\"\n",
    "    assert result[0][\"genotype\"] == \"AC\"\n",
    "    assert result[0][\"match_type\"] == MatchType.VARIANT_CALL.value\n",
    "    assert result[0][\"participant_id\"] == \"TEST_ID\"\n",
    "    assert result[0][\"filename\"] == \"test.txt\"\n",
    "    # Cleanup\n",
    "    os.remove(\"result_HERC2_TEST_ID.tsv\")"
   ]
  },
  {
   "cell_type": "code",
   "execution_count": 7,
   "id": "d3a03b87-9882-49e5-bdb7-55a3f7834770",
   "metadata": {},
   "outputs": [
    {
     "name": "stdout",
     "output_type": "stream",
     "text": [
      "✓ All tests passed!\n"
     ]
    }
   ],
   "source": [
    "# Run tests\n",
    "test_brown_homozygous()\n",
    "test_brown_heterozygous_unsorted()\n",
    "test_blue_homozygous()\n",
    "test_no_call()\n",
    "test_unexpected_allele_c()\n",
    "print(\"✓ All tests passed!\")\n"
   ]
  },
  {
   "cell_type": "code",
   "execution_count": 8,
   "id": "b36a3d84-91a6-4a8f-84e0-6c43f6055c23",
   "metadata": {},
   "outputs": [
    {
     "name": "stdout",
     "output_type": "stream",
     "text": [
      "\n",
      "============================================================\n",
      "Testing: classify_herc2.py\n",
      "============================================================\n",
      "Running tests with pytest: classify_herc2.py\n",
      "\u001b[1m============================= test session starts ==============================\u001b[0m\n",
      "platform darwin -- Python 3.12.7, pytest-8.4.2, pluggy-1.6.0 -- /Users/madhavajay/dev/biovault/workspace1/bioscript/.venv/bin/python3\n",
      "cachedir: .pytest_cache\n",
      "rootdir: /Users/madhavajay/dev/biovault/workspace1/bioscript/examples/herc2\n",
      "plugins: anyio-4.11.0\n",
      "collected 5 items                                                              \u001b[0m\n",
      "\n",
      "classify_herc2.py::test_brown_homozygous \u001b[32mPASSED\u001b[0m\u001b[32m                          [ 20%]\u001b[0m\n",
      "classify_herc2.py::test_brown_heterozygous_unsorted \u001b[32mPASSED\u001b[0m\u001b[32m               [ 40%]\u001b[0m\n",
      "classify_herc2.py::test_blue_homozygous \u001b[32mPASSED\u001b[0m\u001b[32m                           [ 60%]\u001b[0m\n",
      "classify_herc2.py::test_no_call \u001b[32mPASSED\u001b[0m\u001b[32m                                   [ 80%]\u001b[0m\n",
      "classify_herc2.py::test_unexpected_allele_c \u001b[32mPASSED\u001b[0m\u001b[32m                       [100%]\u001b[0m\n",
      "\n",
      "\u001b[32m============================== \u001b[32m\u001b[1m5 passed\u001b[0m\u001b[32m in 0.01s\u001b[0m\u001b[32m ===============================\u001b[0m\n"
     ]
    }
   ],
   "source": [
    "from bioscript import export_from_notebook\n",
    "export_from_notebook(\"herc2_dev.ipynb\", \"classify_herc2.py\")\n",
    "\n",
    "!bioscript test classify_herc2.py"
   ]
  },
  {
   "cell_type": "code",
   "execution_count": 9,
   "id": "hrvdxb063",
   "metadata": {},
   "outputs": [
    {
     "name": "stdout",
     "output_type": "stream",
     "text": [
      "Test file created: herc2_test_ga.tsv\n",
      "Content:\n",
      "# rsid\tchromosome\tposition\tgenotype\n",
      "rs12913832\t15\t28120472\tGA\n",
      "✓ Test passed and file created!\n"
     ]
    }
   ],
   "source": [
    "# Rewritten to write the raw line to a file and use bioscript classify in the next cell\n",
    "from pathlib import Path\n",
    "\n",
    "def test_brown_heterozygous_file_based():\n",
    "    # Write the raw_line to a test file\n",
    "    test_file = Path(\"herc2_test_ga.tsv\")\n",
    "    test_file.write_text(\n",
    "        \"# rsid\\tchromosome\\tposition\\tgenotype\\n\" +\n",
    "        \"rs12913832\\t15\\t28120472\\tGA\"\n",
    "    )\n",
    "    \n",
    "    print(f\"Test file created: {test_file}\")\n",
    "    print(f\"Content:\\n{test_file.read_text()}\")\n",
    "    return test_file\n",
    "\n",
    "# Run the test\n",
    "test_file = test_brown_heterozygous_file_based()\n",
    "print(\"✓ Test passed and file created!\")"
   ]
  },
  {
   "cell_type": "code",
   "execution_count": 10,
   "id": "c51e4f6f-9900-4e7c-844e-211a165f69ef",
   "metadata": {},
   "outputs": [
    {
     "name": "stdout",
     "output_type": "stream",
     "text": [
      "participant_id=X\n",
      "HERC2_count=1\n",
      "participant_id\tfilename\trsid\tchromosome\tposition\tgenotype\tmatch_type\teye_color\n",
      "X\therc2_test_ga.tsv\trs12913832\t15\t28120472\tAG\tVariant call\tBrown\n"
     ]
    }
   ],
   "source": [
    "!bioscript classify classify_herc2.py --file herc2_test_ga.tsv --participant_id=\"X\"\n",
    "!cat result_HERC2_X.tsv"
   ]
  },
  {
   "cell_type": "code",
   "execution_count": 11,
   "id": "7830775c-a21a-40f6-acd1-262261e3b0f6",
   "metadata": {},
   "outputs": [
    {
     "name": "stdout",
     "output_type": "stream",
     "text": [
      "{\n",
      "  \"participant_id\": \"test_user\",\n",
      "  \"HERC2_count\": 1,\n",
      "  \"HERC2_data\": [\n",
      "    {\n",
      "      \"participant_id\": \"test_user\",\n",
      "      \"filename\": \"herc2_test_ga.tsv\",\n",
      "      \"rsid\": \"rs12913832\",\n",
      "      \"chromosome\": \"15\",\n",
      "      \"position\": 28120472,\n",
      "      \"genotype\": \"AG\",\n",
      "      \"match_type\": \"Variant call\",\n",
      "      \"eye_color\": \"Brown\"\n",
      "    }\n",
      "  ]\n",
      "}\n"
     ]
    }
   ],
   "source": [
    "# Test JSON output to show the new consistent naming convention\n",
    "!bioscript classify classify_herc2.py --file herc2_test_ga.tsv --out json --participant_id=\"test_user\""
   ]
  },
  {
   "cell_type": "code",
   "execution_count": null,
   "id": "8af1854c-8553-4144-972d-a41b103e381e",
   "metadata": {},
   "outputs": [],
   "source": []
  },
  {
   "cell_type": "code",
   "execution_count": 12,
   "id": "5c543421",
   "metadata": {},
   "outputs": [
    {
     "data": {
      "text/plain": [
       "BioVaultProject(name='herc2-classifier', author='madhava@openmined.org', workflow='workflow.nf', template=<TemplateType.DYNAMIC_NEXTFLOW: 'dynamic-nextflow'>, version='0.1.0', assets=['classify_herc2.py'], parameters=[], inputs=[Input(name='participants', type='List[GenotypeRecord]', description='CSV/TSV with participant_id and genotype_file columns', format='csv', path=None, mapping={'participant_id': 'participant_id', 'genotype_file': 'genotype_file'}, cli_flag=None)], outputs=[Output(name='classification_result', type='File', description='HERC2 eye color classification (aggregated)', format='tsv', path='result_HERC2.tsv', cli_flag=None)], processes=[ProcessDefinition(name='herc2_classifier', script='classify_herc2.py', container='ghcr.io/openmined/bioscript:0.1.1', kind='bioscript')], docker_image='ghcr.io/openmined/bioscript:0.1.1', docker_platform='linux/amd64')"
      ]
     },
     "execution_count": 12,
     "metadata": {},
     "output_type": "execute_result"
    }
   ],
   "source": [
    "from pathlib import Path\n",
    "from bioscript import export_bioscript_workflow\n",
    "\n",
    "# Export with List[GenotypeRecord] for multi-participant processing\n",
    "project = export_bioscript_workflow(\n",
    "    script_path='./classify_herc2.py',\n",
    "    workflow_name='herc2-classifier',\n",
    "    author='madhava@openmined.org',\n",
    "    target_dir=\"./\",\n",
    "    assets={},\n",
    "    inputs=[\n",
    "        {\n",
    "            'name': 'participants',\n",
    "            'type': 'List[GenotypeRecord]',\n",
    "            'description': 'CSV/TSV with participant_id and genotype_file columns',\n",
    "            'format': 'csv',\n",
    "            'mapping': {\n",
    "                'participant_id': 'participant_id',\n",
    "                'genotype_file': 'genotype_file',\n",
    "            }\n",
    "        }\n",
    "    ],\n",
    "    outputs=[\n",
    "        {\n",
    "            'name': 'classification_result',\n",
    "            'type': 'File',\n",
    "            'description': 'HERC2 eye color classification (aggregated)',\n",
    "            'format': 'tsv',\n",
    "            'path': 'result_HERC2.tsv',\n",
    "        },\n",
    "    ],\n",
    ")\n",
    "project"
   ]
  },
  {
   "cell_type": "code",
   "execution_count": 13,
   "id": "3d78cdd5",
   "metadata": {},
   "outputs": [
    {
     "data": {
      "text/plain": [
       "BioVaultPipeline(name='herc2-classifier', inputs={'samplesheet': 'List[GenotypeRecord]'}, steps=[PipelineStep(step_id='herc2', uses='./', with_args={'participants': 'inputs.samplesheet'}, publish={'classification_result': 'File(result_HERC2.tsv)'}, store={'counts_sql': SQLStore(source='classification_result', table_name='herc2_{run_id}', destination='SQL()', key_column='participant_id')})])"
      ]
     },
     "execution_count": 13,
     "metadata": {},
     "output_type": "execute_result"
    }
   ],
   "source": [
    "from bioscript import export_bioscript_pipeline, PipelineStep, SQLStore\n",
    "\n",
    "pipeline = export_bioscript_pipeline(\n",
    "    pipeline_name='herc2-classifier',\n",
    "    target_dir='./herc2-classifier',\n",
    "    inputs={\n",
    "        'samplesheet': 'List[GenotypeRecord]',\n",
    "    },\n",
    "    steps=[\n",
    "        PipelineStep(\n",
    "            step_id='herc2',\n",
    "            uses='./',\n",
    "            with_args={\n",
    "                'participants': 'inputs.samplesheet',\n",
    "            },\n",
    "            publish={\n",
    "                'classification_result': 'File(result_HERC2.tsv)',\n",
    "            },\n",
    "            store={\n",
    "                'counts_sql': SQLStore(\n",
    "                    source='classification_result',\n",
    "                    table_name='herc2_{run_id}',\n",
    "                    destination='SQL()',\n",
    "                    key_column='participant_id',\n",
    "                ),\n",
    "            },\n",
    "        ),\n",
    "    ],\n",
    ")\n",
    "pipeline\n"
   ]
  },
  {
   "cell_type": "code",
   "execution_count": null,
   "id": "e5047888-0dca-4ba7-b0eb-d6e9c5bcbf76",
   "metadata": {},
   "outputs": [],
   "source": []
  }
 ],
 "metadata": {
  "kernelspec": {
   "display_name": "Python 3 (ipykernel)",
   "language": "python",
   "name": "python3"
  },
  "language_info": {
   "codemirror_mode": {
    "name": "ipython",
    "version": 3
   },
   "file_extension": ".py",
   "mimetype": "text/x-python",
   "name": "python",
   "nbconvert_exporter": "python",
   "pygments_lexer": "ipython3",
   "version": "3.12.7"
  }
 },
 "nbformat": 4,
 "nbformat_minor": 5
}
