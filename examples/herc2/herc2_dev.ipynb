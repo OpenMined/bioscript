{
 "cells": [
  {
   "cell_type": "code",
   "execution_count": 1,
   "id": "b025ff95-b911-4b42-8f63-35567637dfb9",
   "metadata": {},
   "outputs": [],
   "source": [
    "from bioscript.classifier import GenotypeClassifier\n",
    "from bioscript.types import Alleles, MatchList, Nucleotide, VariantCall"
   ]
  },
  {
   "cell_type": "code",
   "execution_count": 2,
   "id": "014b798d-a680-461b-822b-b3c72c504488",
   "metadata": {},
   "outputs": [],
   "source": [
    "# def rs12913832 = 38/37 ['15:28120472-28120472', '15:28365618-28365618']\n",
    "# https://www.ncbi.nlm.nih.gov/snp/?term=rs12913832\n",
    "# https://www.ncbi.nlm.nih.gov/snp/rs12913832\n",
    "rs12913832 = VariantCall(rsid=[\"rs12913832\", \"rs60078917\"], ref=Alleles.A, alt=Alleles.NOT_A)\n",
    "# (A;A) yields brown eye color ~80% of the time.\n",
    "# (A;G) also tends toward brown.\n",
    "# (G;G) gives blue eye color ~99% of the time."
   ]
  },
  {
   "cell_type": "code",
   "execution_count": 3,
   "id": "fbf79259-7445-4284-a17a-a8f584914f80",
   "metadata": {},
   "outputs": [],
   "source": [
    "class HERC2Classifier(GenotypeClassifier):\n",
    "    def classify(self, matches):\n",
    "        match = matches.get(rs12913832)\n",
    "        # Get raw_line from the match if it exists\n",
    "        raw_line = match.raw_line if match else None\n",
    "        \n",
    "        if not match or match.has_missing:\n",
    "            return {\"result\": \"No call\", \"genotype_sorted\": None, \"raw_line\": raw_line}\n",
    "        \n",
    "        eye_color_map = {\n",
    "            \"AA\": \"Brown\",\n",
    "            \"AG\": \"Brown\",\n",
    "            \"GG\": \"Blue\",\n",
    "        }\n",
    "        return {\n",
    "            \"result\": eye_color_map.get(match.genotype_sorted, \"Unknown\"),\n",
    "            \"genotype_sorted\": match.genotype_sorted,\n",
    "            \"raw_line\": raw_line,\n",
    "        }"
   ]
  },
  {
   "cell_type": "code",
   "execution_count": 4,
   "id": "9db0d015-66d4-4564-ae99-e1353dad1aef",
   "metadata": {},
   "outputs": [],
   "source": [
    "__bioscript__ = {\n",
    "    \"variant_calls\": [rs12913832],\n",
    "    \"classifier\": HERC2Classifier(),\n",
    "    \"name\": \"HERC2\",\n",
    "}"
   ]
  },
  {
   "cell_type": "code",
   "execution_count": 5,
   "id": "2794c5cf-6361-4743-ac7c-10dd370b47f2",
   "metadata": {},
   "outputs": [],
   "source": [
    "from bioscript import VariantFixture\n",
    "\n",
    "# Use the regular VariantFixture which now includes raw_line functionality\n",
    "fixture = VariantFixture(\n",
    "    [\n",
    "        {\"rsid\": \"rs12913832\", \"chromosome\": \"15\", \"position\": 28120472}\n",
    "    ],\n",
    "    assembly=\"GRCh38\",\n",
    ")"
   ]
  },
  {
   "cell_type": "code",
   "execution_count": 6,
   "id": "48cdc397-62fd-473e-af2f-fec6d1ac21c8",
   "metadata": {},
   "outputs": [],
   "source": [
    "def classify_fixture(genotype):\n",
    "    variants = fixture([genotype])\n",
    "    matches = MatchList([rs12913832]).match_rows(variants)\n",
    "    classifier = HERC2Classifier()\n",
    "    return classifier(matches)\n",
    "\n",
    "def test_brown_homozygous():\n",
    "    result = classify_fixture(\"AA\")\n",
    "    assert result[\"result\"] == \"Brown\"\n",
    "    assert result[\"genotype_sorted\"] == \"AA\"\n",
    "    assert result[\"raw_line\"] == \"rs12913832\\t15\\t28120472\\tAA\"\n",
    "\n",
    "def test_brown_heterozygous_unsorted():\n",
    "    result = classify_fixture(\"GA\")\n",
    "    assert result[\"result\"] == \"Brown\"\n",
    "    assert result[\"genotype_sorted\"] == \"AG\"\n",
    "    assert result[\"raw_line\"] == \"rs12913832\\t15\\t28120472\\tGA\"\n",
    "\n",
    "def test_blue_homozygous():\n",
    "    result = classify_fixture(\"GG\")\n",
    "    assert result[\"result\"] == \"Blue\"\n",
    "    assert result[\"genotype_sorted\"] == \"GG\"\n",
    "    assert result[\"raw_line\"] == \"rs12913832\\t15\\t28120472\\tGG\"\n",
    "\n",
    "def test_no_call():\n",
    "    result = classify_fixture(\"..\")\n",
    "    assert result[\"result\"] == \"No call\"\n",
    "    assert result[\"genotype_sorted\"] is None\n",
    "    assert result[\"raw_line\"] == \"rs12913832\\t15\\t28120472\\t..\""
   ]
  },
  {
   "cell_type": "code",
   "execution_count": 7,
   "id": "d3a03b87-9882-49e5-bdb7-55a3f7834770",
   "metadata": {},
   "outputs": [
    {
     "name": "stdout",
     "output_type": "stream",
     "text": [
      "✓ All tests passed!\n"
     ]
    }
   ],
   "source": [
    "# Run tests\n",
    "test_brown_homozygous()\n",
    "test_brown_heterozygous_unsorted()\n",
    "test_blue_homozygous()\n",
    "test_no_call()\n",
    "print(\"✓ All tests passed!\")\n"
   ]
  },
  {
   "cell_type": "code",
   "execution_count": 8,
   "id": "b36a3d84-91a6-4a8f-84e0-6c43f6055c23",
   "metadata": {},
   "outputs": [
    {
     "name": "stdout",
     "output_type": "stream",
     "text": [
      "\n",
      "============================================================\n",
      "Testing: classify_herc2_exported.py\n",
      "============================================================\n",
      "Running tests with pytest: classify_herc2_exported.py\n",
      "\u001b[1m============================= test session starts ==============================\u001b[0m\n",
      "platform darwin -- Python 3.12.7, pytest-8.4.2, pluggy-1.6.0 -- /Users/madhavajay/dev/bioscript/workspace1/.venv/bin/python3\n",
      "cachedir: .pytest_cache\n",
      "rootdir: /Users/madhavajay/dev/bioscript/workspace1/examples/herc2\n",
      "plugins: anyio-4.11.0\n",
      "collected 4 items                                                              \u001b[0m\n",
      "\n",
      "classify_herc2_exported.py::test_brown_homozygous \u001b[32mPASSED\u001b[0m\u001b[32m                 [ 25%]\u001b[0m\n",
      "classify_herc2_exported.py::test_brown_heterozygous_unsorted \u001b[32mPASSED\u001b[0m\u001b[32m      [ 50%]\u001b[0m\n",
      "classify_herc2_exported.py::test_blue_homozygous \u001b[32mPASSED\u001b[0m\u001b[32m                  [ 75%]\u001b[0m\n",
      "classify_herc2_exported.py::test_no_call \u001b[32mPASSED\u001b[0m\u001b[32m                          [100%]\u001b[0m\n",
      "\n",
      "\u001b[32m============================== \u001b[32m\u001b[1m4 passed\u001b[0m\u001b[32m in 0.01s\u001b[0m\u001b[32m ===============================\u001b[0m\n"
     ]
    }
   ],
   "source": [
    "from bioscript import export_from_notebook\n",
    "export_from_notebook(\"herc2_dev.ipynb\", \"classify_herc2_exported.py\")\n",
    "\n",
    "!bioscript test classify_herc2_exported.py"
   ]
  },
  {
   "cell_type": "code",
   "execution_count": 9,
   "id": "hrvdxb063",
   "metadata": {},
   "outputs": [
    {
     "name": "stdout",
     "output_type": "stream",
     "text": [
      "Test file created: herc2_test_ga.tsv\n",
      "Content:\n",
      "# rsid\tchromosome\tposition\tgenotype\n",
      "rs12913832\t15\t28120472\tGA\n",
      "✓ Test passed and file created!\n"
     ]
    }
   ],
   "source": [
    "# Rewritten to write the raw line to a file and use bioscript classify in the next cell\n",
    "from pathlib import Path\n",
    "\n",
    "def test_brown_heterozygous_file_based():\n",
    "    # Write the raw_line to a test file\n",
    "    test_file = Path(\"herc2_test_ga.tsv\")\n",
    "    test_file.write_text(\n",
    "        \"# rsid\\tchromosome\\tposition\\tgenotype\\n\" +\n",
    "        \"rs12913832\\t15\\t28120472\\tGA\"\n",
    "    )\n",
    "    \n",
    "    print(f\"Test file created: {test_file}\")\n",
    "    print(f\"Content:\\n{test_file.read_text()}\")\n",
    "    return test_file\n",
    "\n",
    "# Run the test\n",
    "test_file = test_brown_heterozygous_file_based()\n",
    "print(\"✓ Test passed and file created!\")"
   ]
  },
  {
   "cell_type": "code",
   "execution_count": 10,
   "id": "c51e4f6f-9900-4e7c-844e-211a165f69ef",
   "metadata": {},
   "outputs": [
    {
     "name": "stdout",
     "output_type": "stream",
     "text": [
      "participant_id\tHERC2_result\tHERC2_genotype_sorted\tHERC2_raw_line\n",
      "X\tBrown\tAG\t\"rs12913832\t15\t28120472\tGA\"\n"
     ]
    }
   ],
   "source": [
    "!bioscript classify classify_herc2_exported.py --file herc2_test_ga.tsv --out tsv --participant_id=\"X\" > herc2_result.tsv\n",
    "!cat herc2_result.tsv"
   ]
  },
  {
   "cell_type": "code",
   "execution_count": 11,
   "id": "7830775c-a21a-40f6-acd1-262261e3b0f6",
   "metadata": {},
   "outputs": [
    {
     "name": "stdout",
     "output_type": "stream",
     "text": [
      "{\n",
      "  \"participant_id\": \"test_user\",\n",
      "  \"HERC2_result\": \"Brown\",\n",
      "  \"HERC2_genotype_sorted\": \"AG\",\n",
      "  \"HERC2_raw_line\": \"rs12913832\\t15\\t28120472\\tGA\"\n",
      "}\n"
     ]
    }
   ],
   "source": [
    "# Test JSON output to show the new consistent naming convention\n",
    "!bioscript classify classify_herc2_exported.py --file herc2_test_ga.tsv --out json --participant_id=\"test_user\""
   ]
  }
 ],
 "metadata": {
  "kernelspec": {
   "display_name": "Python 3 (ipykernel)",
   "language": "python",
   "name": "python3"
  },
  "language_info": {
   "codemirror_mode": {
    "name": "ipython",
    "version": 3
   },
   "file_extension": ".py",
   "mimetype": "text/x-python",
   "name": "python",
   "nbconvert_exporter": "python",
   "pygments_lexer": "ipython3",
   "version": "3.12.7"
  }
 },
 "nbformat": 4,
 "nbformat_minor": 5
}
