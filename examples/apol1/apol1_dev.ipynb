{
 "cells": [
  {
   "cell_type": "markdown",
   "metadata": {},
   "source": [
    "# APOL1 Classifier Development\n",
    "\n",
    "This notebook shows how to develop a classifier with embedded tests in Jupyter."
   ]
  },
  {
   "cell_type": "code",
   "execution_count": null,
   "metadata": {},
   "outputs": [],
   "source": [
    "from bioscript import AlleleCounter\n",
    "from bioscript.classifier import DiploidResult, GenotypeClassifier, GenotypeEnum\n",
    "from bioscript.types import Alleles, VariantCall"
   ]
  },
  {
   "cell_type": "code",
   "execution_count": null,
   "metadata": {},
   "outputs": [],
   "source": [
    "# Define APOL1 variant calls\n",
    "rs73885319 = VariantCall(rsid=\"rs73885319\", ref=Alleles.A, alt=Alleles.NOT_A)\n",
    "rs60910145 = VariantCall(rsid=\"rs60910145\", ref=Alleles.T, alt=Alleles.NOT_T)\n",
    "rs71785313 = VariantCall(\n",
    "    rsid=[\"rs71785313\", \"rs1317778148\", \"rs143830837\"], ref=Alleles.I, alt=Alleles.D\n",
    ")"
   ]
  },
  {
   "cell_type": "code",
   "execution_count": null,
   "metadata": {},
   "outputs": [],
   "source": [
    "class APOL1Genotypes(GenotypeEnum):\n",
    "    G2 = \"G2\"\n",
    "    G1 = \"G1\"\n",
    "    G0 = \"G0\"\n",
    "\n",
    "MISSING = \"G-\""
   ]
  },
  {
   "cell_type": "code",
   "execution_count": null,
   "metadata": {},
   "outputs": [],
   "source": [
    "class APOL1Classifier(GenotypeClassifier):\n",
    "    def classify(self, matches) -> DiploidResult:\n",
    "        g2_counter = AlleleCounter(rs71785313)\n",
    "        g1_site1_counter = AlleleCounter(rs73885319)\n",
    "        g1_site2_counter = AlleleCounter(rs60910145)\n",
    "\n",
    "        g2_result = g2_counter.count(matches)\n",
    "        site1_result = g1_site1_counter.count(matches)\n",
    "        site2_result = g1_site2_counter.count(matches)\n",
    "\n",
    "        has_data = (\n",
    "            g2_result.genotype is not None\n",
    "            or site1_result.genotype is not None\n",
    "            or site2_result.genotype is not None\n",
    "        )\n",
    "        if not has_data:\n",
    "            return DiploidResult(MISSING, MISSING)\n",
    "\n",
    "        d_count = g2_result.alt_count\n",
    "        site1_variants = site1_result.alt_count\n",
    "        site2_variants = site2_result.alt_count\n",
    "\n",
    "        has_g1 = site1_variants > 0 and site2_variants > 0\n",
    "        g1_total = site1_variants + site2_variants if has_g1 else 0\n",
    "\n",
    "        if d_count == 2:\n",
    "            return DiploidResult(APOL1Genotypes.G2, APOL1Genotypes.G2)\n",
    "        elif d_count == 1:\n",
    "            if g1_total >= 2:\n",
    "                return DiploidResult(APOL1Genotypes.G2, APOL1Genotypes.G1)\n",
    "            else:\n",
    "                return DiploidResult(APOL1Genotypes.G2, APOL1Genotypes.G0)\n",
    "        else:\n",
    "            if g1_total == 4:\n",
    "                return DiploidResult(APOL1Genotypes.G1, APOL1Genotypes.G1)\n",
    "            elif g1_total >= 2:\n",
    "                return DiploidResult(APOL1Genotypes.G1, APOL1Genotypes.G0)\n",
    "            else:\n",
    "                return DiploidResult(APOL1Genotypes.G0, APOL1Genotypes.G0)"
   ]
  },
  {
   "cell_type": "code",
   "execution_count": null,
   "metadata": {},
   "outputs": [],
   "source": [
    "__bioscript__ = {\n",
    "    \"variant_calls\": [rs73885319, rs60910145, rs71785313],\n",
    "    \"classifier\": APOL1Classifier(),\n",
    "    \"name\": \"APOL1\",\n",
    "}"
   ]
  },
  {
   "cell_type": "markdown",
   "metadata": {},
   "source": [
    "## Tests\n",
    "\n",
    "Write tests using the test_* function convention:"
   ]
  },
  {
   "cell_type": "code",
   "execution_count": null,
   "metadata": {},
   "outputs": [],
   "source": [
    "from bioscript import VariantFixture\n",
    "from bioscript.types import MatchList\n",
    "\n",
    "fixture = VariantFixture(\n",
    "    [\n",
    "        {\"rsid\": \"rs73885319\", \"chromosome\": \"22\", \"position\": 36265860},\n",
    "        {\"rsid\": \"rs60910145\", \"chromosome\": \"22\", \"position\": 36265988},\n",
    "        {\"rsid\": \"rs71785313\", \"chromosome\": \"22\", \"position\": 36266000},\n",
    "    ],\n",
    "    assembly=\"GRCh38\",\n",
    ")"
   ]
  },
  {
   "cell_type": "code",
   "execution_count": null,
   "metadata": {},
   "outputs": [],
   "source": [
    "def test_g0_homozygous():\n",
    "    variants = fixture([\"AA\", \"TT\", \"II\"])\n",
    "    matches = MatchList([rs73885319, rs60910145, rs71785313]).match_rows(variants)\n",
    "    classifier = APOL1Classifier()\n",
    "    result = classifier(matches)\n",
    "    assert result == \"G0/G0\""
   ]
  },
  {
   "cell_type": "code",
   "execution_count": null,
   "metadata": {},
   "outputs": [],
   "source": [
    "def test_g1_homozygous():\n",
    "    variants = fixture([\"GG\", \"CC\", \"II\"])\n",
    "    matches = MatchList([rs73885319, rs60910145, rs71785313]).match_rows(variants)\n",
    "    classifier = APOL1Classifier()\n",
    "    result = classifier(matches)\n",
    "    assert result == \"G1/G1\""
   ]
  },
  {
   "cell_type": "markdown",
   "metadata": {},
   "source": [
    "## Run Tests in Jupyter\n",
    "\n",
    "You can run tests directly in the notebook:"
   ]
  },
  {
   "cell_type": "code",
   "execution_count": null,
   "metadata": {},
   "outputs": [],
   "source": [
    "# Run tests\n",
    "test_g0_homozygous()\n",
    "test_g1_homozygous()\n",
    "print(\"✓ All tests passed!\")"
   ]
  },
  {
   "cell_type": "markdown",
   "metadata": {},
   "source": [
    "## Export to Python Module\n",
    "\n",
    "Export this notebook to a Python file:\n",
    "\n",
    "```bash\n",
    "bioscript export apol1_dev.ipynb -o classify_apol1_exported.py\n",
    "```\n",
    "\n",
    "Or in Python:\n",
    "\n",
    "```python\n",
    "from bioscript import export_from_notebook\n",
    "export_from_notebook(\"apol1_dev.ipynb\", \"classify_apol1_exported.py\")\n",
    "```"
   ]
  },
  {
   "cell_type": "code",
   "execution_count": null,
   "metadata": {},
   "outputs": [],
   "source": [
    "from bioscript import export_from_notebook\n",
    "export_from_notebook(\"apol1_dev.ipynb\", \"classify_apol1_exported.py\")"
   ]
  },
  {
   "cell_type": "code",
   "execution_count": null,
   "metadata": {},
   "outputs": [],
   "source": [
    "!bioscript test classify_apol1_exported.py"
   ]
  },
  {
   "cell_type": "code",
   "execution_count": null,
   "metadata": {},
   "outputs": [],
   "source": []
  }
 ],
 "metadata": {
  "kernelspec": {
   "display_name": "Python 3 (ipykernel)",
   "language": "python",
   "name": "python3"
  },
  "language_info": {
   "codemirror_mode": {
    "name": "ipython",
    "version": 3
   },
   "file_extension": ".py",
   "mimetype": "text/x-python",
   "name": "python",
   "nbconvert_exporter": "python",
   "pygments_lexer": "ipython3",
   "version": "3.12.7"
  }
 },
 "nbformat": 4,
 "nbformat_minor": 4
}
