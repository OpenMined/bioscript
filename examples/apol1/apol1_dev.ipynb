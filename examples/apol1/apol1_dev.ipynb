{
 "cells": [
  {
   "cell_type": "markdown",
   "metadata": {},
   "source": [
    "# APOL1 Classifier Development\n",
    "\n",
    "This notebook shows how to develop a classifier with embedded tests in Jupyter."
   ]
  },
  {
   "cell_type": "code",
   "execution_count": 1,
   "metadata": {},
   "outputs": [],
   "source": [
    "from bioscript.classifier import DiploidResult, GenotypeClassifier, GenotypeEnum\n",
    "from bioscript.types import Alleles, VariantCall"
   ]
  },
  {
   "cell_type": "code",
   "execution_count": 2,
   "metadata": {},
   "outputs": [],
   "source": [
    "# Define APOL1 variant calls\n",
    "rs73885319 = VariantCall(rsid=\"rs73885319\", ref=Alleles.A, alt=Alleles.NOT_A)\n",
    "rs60910145 = VariantCall(rsid=\"rs60910145\", ref=Alleles.T, alt=Alleles.NOT_T)\n",
    "rs71785313 = VariantCall(\n",
    "    rsid=[\"rs71785313\", \"rs1317778148\", \"rs143830837\"], ref=Alleles.I, alt=Alleles.D\n",
    ")"
   ]
  },
  {
   "cell_type": "code",
   "execution_count": 3,
   "metadata": {},
   "outputs": [],
   "source": [
    "class APOL1Genotypes(GenotypeEnum):\n",
    "    G2 = \"G2\"\n",
    "    G1 = \"G1\"\n",
    "    G0 = \"G0\"\n",
    "\n",
    "MISSING = \"G-\""
   ]
  },
  {
   "cell_type": "code",
   "execution_count": 4,
   "metadata": {},
   "outputs": [],
   "source": [
    "class APOL1Classifier(GenotypeClassifier):\n",
    "    def classify(self, matches) -> DiploidResult:\n",
    "                        \n",
    "        g2_match = matches.get(rs71785313)\n",
    "        site1_match = matches.get(rs73885319)\n",
    "        site2_match = matches.get(rs60910145)\n",
    "\n",
    "        has_data = any(match is not None for match in (g2_match, site1_match, site2_match))\n",
    "        if not has_data:\n",
    "            return DiploidResult(MISSING, MISSING)\n",
    "\n",
    "        d_count = g2_match.alt_count if g2_match else 0\n",
    "        site1_variants = site1_match.alt_count if site1_match else 0\n",
    "        site2_variants = site2_match.alt_count if site2_match else 0\n",
    "\n",
    "        has_g1 = site1_variants > 0 and site2_variants > 0\n",
    "        g1_total = site1_variants + site2_variants if has_g1 else 0\n",
    "\n",
    "        if d_count == 2:\n",
    "            return DiploidResult(APOL1Genotypes.G2, APOL1Genotypes.G2)\n",
    "        elif d_count == 1:\n",
    "            if g1_total >= 2:\n",
    "                return DiploidResult(APOL1Genotypes.G2, APOL1Genotypes.G1)\n",
    "            else:\n",
    "                return DiploidResult(APOL1Genotypes.G2, APOL1Genotypes.G0)\n",
    "        else:\n",
    "            if g1_total == 4:\n",
    "                return DiploidResult(APOL1Genotypes.G1, APOL1Genotypes.G1)\n",
    "            elif g1_total >= 2:\n",
    "                return DiploidResult(APOL1Genotypes.G1, APOL1Genotypes.G0)\n",
    "            else:\n",
    "                return DiploidResult(APOL1Genotypes.G0, APOL1Genotypes.G0)"
   ]
  },
  {
   "cell_type": "code",
   "execution_count": 5,
   "metadata": {},
   "outputs": [],
   "source": [
    "__bioscript__ = {\n",
    "    \"variant_calls\": [rs73885319, rs60910145, rs71785313],\n",
    "    \"classifier\": APOL1Classifier,\n",
    "    \"name\": \"APOL1\",\n",
    "}"
   ]
  },
  {
   "cell_type": "markdown",
   "metadata": {},
   "source": [
    "## Tests\n",
    "\n",
    "Write tests using the test_* function convention:"
   ]
  },
  {
   "cell_type": "code",
   "execution_count": 6,
   "metadata": {},
   "outputs": [],
   "source": [
    "from bioscript import VariantFixture\n",
    "from bioscript.types import MatchList\n",
    "\n",
    "fixture = VariantFixture(\n",
    "    [\n",
    "        {\"rsid\": \"rs73885319\", \"chromosome\": \"22\", \"position\": 36265860},\n",
    "        {\"rsid\": \"rs60910145\", \"chromosome\": \"22\", \"position\": 36265988},\n",
    "        {\"rsid\": \"rs71785313\", \"chromosome\": \"22\", \"position\": 36266000},\n",
    "    ],\n",
    "    assembly=\"GRCh38\",\n",
    ")"
   ]
  },
  {
   "cell_type": "code",
   "execution_count": 7,
   "metadata": {},
   "outputs": [],
   "source": [
    "def test_g0_homozygous():\n",
    "    variants = fixture([\"AA\", \"TT\", \"II\"])\n",
    "    matches = MatchList([rs73885319, rs60910145, rs71785313]).match_rows(variants)\n",
    "    classifier = APOL1Classifier()\n",
    "    result = classifier(matches)\n",
    "    assert result == \"G0/G0\""
   ]
  },
  {
   "cell_type": "code",
   "execution_count": 8,
   "metadata": {},
   "outputs": [],
   "source": [
    "def test_g1_homozygous():\n",
    "    variants = fixture([\"GG\", \"CC\", \"II\"])\n",
    "    matches = MatchList([rs73885319, rs60910145, rs71785313]).match_rows(variants)\n",
    "    classifier = APOL1Classifier()\n",
    "    result = classifier(matches)\n",
    "    assert result == \"G1/G1\""
   ]
  },
  {
   "cell_type": "markdown",
   "metadata": {},
   "source": [
    "## Run Tests in Jupyter\n",
    "\n",
    "You can run tests directly in the notebook:"
   ]
  },
  {
   "cell_type": "code",
   "execution_count": 9,
   "metadata": {},
   "outputs": [
    {
     "name": "stdout",
     "output_type": "stream",
     "text": [
      "✓ All tests passed!\n"
     ]
    }
   ],
   "source": [
    "# Run tests\n",
    "test_g0_homozygous()\n",
    "test_g1_homozygous()\n",
    "print(\"✓ All tests passed!\")"
   ]
  },
  {
   "cell_type": "code",
   "execution_count": 10,
   "metadata": {},
   "outputs": [
    {
     "data": {
      "text/plain": [
       "PosixPath('classify_apol1.py')"
      ]
     },
     "execution_count": 10,
     "metadata": {},
     "output_type": "execute_result"
    }
   ],
   "source": [
    "from bioscript import export_from_notebook\n",
    "export_from_notebook(\"apol1_dev.ipynb\", \"classify_apol1.py\")"
   ]
  },
  {
   "cell_type": "code",
   "execution_count": 11,
   "metadata": {},
   "outputs": [
    {
     "name": "stdout",
     "output_type": "stream",
     "text": [
      "\n",
      "============================================================\n",
      "Testing: classify_apol1.py\n",
      "============================================================\n",
      "Running tests with pytest: classify_apol1.py\n",
      "\u001b[1m============================= test session starts ==============================\u001b[0m\n",
      "platform darwin -- Python 3.12.7, pytest-8.4.2, pluggy-1.6.0 -- /Users/madhavajay/dev/bioscript/workspace1/.venv/bin/python3\n",
      "cachedir: .pytest_cache\n",
      "rootdir: /Users/madhavajay/dev/bioscript/workspace1/examples/apol1\n",
      "plugins: anyio-4.11.0\n",
      "collected 2 items                                                              \u001b[0m\n",
      "\n",
      "classify_apol1.py::test_g0_homozygous \u001b[32mPASSED\u001b[0m\u001b[32m                             [ 50%]\u001b[0m\n",
      "classify_apol1.py::test_g1_homozygous \u001b[32mPASSED\u001b[0m\u001b[32m                             [100%]\u001b[0m\n",
      "\n",
      "\u001b[32m============================== \u001b[32m\u001b[1m2 passed\u001b[0m\u001b[32m in 0.00s\u001b[0m\u001b[32m ===============================\u001b[0m\n"
     ]
    }
   ],
   "source": [
    "!bioscript test classify_apol1.py"
   ]
  },
  {
   "cell_type": "code",
   "execution_count": null,
   "metadata": {},
   "outputs": [],
   "source": []
  }
 ],
 "metadata": {
  "kernelspec": {
   "display_name": "Python 3 (ipykernel)",
   "language": "python",
   "name": "python3"
  },
  "language_info": {
   "codemirror_mode": {
    "name": "ipython",
    "version": 3
   },
   "file_extension": ".py",
   "mimetype": "text/x-python",
   "name": "python",
   "nbconvert_exporter": "python",
   "pygments_lexer": "ipython3",
   "version": "3.12.7"
  }
 },
 "nbformat": 4,
 "nbformat_minor": 4
}
