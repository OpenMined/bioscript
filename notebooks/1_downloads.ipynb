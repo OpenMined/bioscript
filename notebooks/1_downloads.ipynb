{
 "cells": [
  {
   "cell_type": "code",
   "execution_count": 16,
   "id": "0e3dccc0-7cd9-4d01-a793-2b1391a2d974",
   "metadata": {},
   "outputs": [],
   "source": [
    "import hashlib, os, re\n",
    "\n",
    "def verify_md5(file_path: str):\n",
    "    try:\n",
    "        md5_file = file_path + \".md5\"\n",
    "        with open(file_path, \"rb\") as f:\n",
    "            local = hashlib.md5(f.read()).hexdigest()\n",
    "\n",
    "        with open(md5_file) as f:\n",
    "            refs = [m.group(0).lower()\n",
    "                    for line in f if (m := re.search(r\"[a-fA-F0-9]{32}\", line))]\n",
    "\n",
    "        if local not in refs:\n",
    "            raise Exception(f\"MD5 mismatch: {local} not in {refs}\")\n",
    "        print(f\"✅ MD5 checksum for {file_path} matches.\")\n",
    "    except Exception as e:\n",
    "        raise Exception(f\"MD5 verification failed for {file_path}: {e}\")\n"
   ]
  },
  {
   "cell_type": "code",
   "execution_count": 17,
   "id": "add8463e-01ac-4b0e-a041-3dbea69aab64",
   "metadata": {},
   "outputs": [],
   "source": [
    "DOWNLOAD_PATH = \"../downloads\""
   ]
  },
  {
   "cell_type": "code",
   "execution_count": 18,
   "id": "89c7dae3-1d96-4cba-9dad-88913ac600e5",
   "metadata": {},
   "outputs": [],
   "source": [
    "!mkdir -p $DOWNLOAD_PATH"
   ]
  },
  {
   "cell_type": "code",
   "execution_count": 19,
   "id": "1fe280f2-4c55-4c57-a1a0-aa0785aae655",
   "metadata": {},
   "outputs": [
    {
     "name": "stdout",
     "output_type": "stream",
     "text": [
      "--2025-10-17 09:38:07--  https://ftp.ncbi.nlm.nih.gov/pub/clinvar/vcf_GRCh38/clinvar.vcf.gz\n",
      "Resolving ftp.ncbi.nlm.nih.gov (ftp.ncbi.nlm.nih.gov)... 2607:f220:41e:250::31, 2607:f220:41e:250::11, 2607:f220:41e:250::12, ...\n",
      "Connecting to ftp.ncbi.nlm.nih.gov (ftp.ncbi.nlm.nih.gov)|2607:f220:41e:250::31|:443... connected.\n",
      "HTTP request sent, awaiting response... 200 OK\n",
      "Length: 174939681 (167M) [application/x-gzip]\n",
      "Saving to: ‘../downloads/clinvar.vcf.gz’\n",
      "\n",
      "clinvar.vcf.gz      100%[===================>] 166.83M  9.27MB/s    in 22s     \n",
      "\n",
      "2025-10-17 09:38:30 (7.56 MB/s) - ‘../downloads/clinvar.vcf.gz’ saved [174939681/174939681]\n",
      "\n"
     ]
    }
   ],
   "source": [
    "!wget -cP $DOWNLOAD_PATH https://ftp.ncbi.nlm.nih.gov/pub/clinvar/vcf_GRCh38/clinvar.vcf.gz"
   ]
  },
  {
   "cell_type": "code",
   "execution_count": 22,
   "id": "b1e66fa9-9451-4116-ba61-5b6cd3b6cac0",
   "metadata": {},
   "outputs": [
    {
     "name": "stdout",
     "output_type": "stream",
     "text": [
      "--2025-10-17 09:39:05--  https://ftp.ncbi.nlm.nih.gov/pub/clinvar/vcf_GRCh38/clinvar.vcf.gz.md5\n",
      "Resolving ftp.ncbi.nlm.nih.gov (ftp.ncbi.nlm.nih.gov)... 2607:f220:41e:250::7, 2607:f220:41e:250::11, 2607:f220:41e:250::12, ...\n",
      "Connecting to ftp.ncbi.nlm.nih.gov (ftp.ncbi.nlm.nih.gov)|2607:f220:41e:250::7|:443... connected.\n",
      "HTTP request sent, awaiting response... 200 OK\n",
      "Length: 132 [application/x-gzip]\n",
      "Saving to: ‘../downloads/clinvar.vcf.gz.md5’\n",
      "\n",
      "clinvar.vcf.gz.md5  100%[===================>]     132  --.-KB/s    in 0s      \n",
      "\n",
      "2025-10-17 09:39:06 (62.9 MB/s) - ‘../downloads/clinvar.vcf.gz.md5’ saved [132/132]\n",
      "\n"
     ]
    }
   ],
   "source": [
    "!wget -cP $DOWNLOAD_PATH https://ftp.ncbi.nlm.nih.gov/pub/clinvar/vcf_GRCh38/clinvar.vcf.gz.md5"
   ]
  },
  {
   "cell_type": "code",
   "execution_count": 23,
   "id": "76e427c5-f4dd-4513-814b-eb95d02a20e7",
   "metadata": {},
   "outputs": [
    {
     "name": "stdout",
     "output_type": "stream",
     "text": [
      "✅ MD5 checksum for ../downloads/clinvar.vcf.gz matches.\n"
     ]
    }
   ],
   "source": [
    "verify_md5(f\"{DOWNLOAD_PATH}/clinvar.vcf.gz\")"
   ]
  },
  {
   "cell_type": "code",
   "execution_count": 24,
   "id": "60cfb5ba-8145-4163-a7b0-a19f75e04fdb",
   "metadata": {},
   "outputs": [],
   "source": [
    "!gzip -dkf $DOWNLOAD_PATH/clinvar.vcf.gz"
   ]
  },
  {
   "cell_type": "code",
   "execution_count": 25,
   "id": "98e409b3-de70-4dc3-a41e-7fb3c80c8886",
   "metadata": {},
   "outputs": [],
   "source": [
    "!tabix -p vcf $DOWNLOAD_PATH/clinvar.vcf.gz"
   ]
  },
  {
   "cell_type": "code",
   "execution_count": null,
   "id": "27ff49e2-16ad-4210-9633-ce3276755365",
   "metadata": {},
   "outputs": [],
   "source": []
  }
 ],
 "metadata": {
  "kernelspec": {
   "display_name": "Python 3 (ipykernel)",
   "language": "python",
   "name": "python3"
  },
  "language_info": {
   "codemirror_mode": {
    "name": "ipython",
    "version": 3
   },
   "file_extension": ".py",
   "mimetype": "text/x-python",
   "name": "python",
   "nbconvert_exporter": "python",
   "pygments_lexer": "ipython3",
   "version": "3.12.7"
  }
 },
 "nbformat": 4,
 "nbformat_minor": 5
}
